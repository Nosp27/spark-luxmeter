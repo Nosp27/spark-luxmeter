{
 "cells": [
  {
   "cell_type": "code",
   "execution_count": 19,
   "metadata": {},
   "outputs": [],
   "source": [
    "import aioredis\n",
    "import graphitesend\n",
    "import random\n",
    "import orjson"
   ]
  },
  {
   "cell_type": "code",
   "execution_count": 3,
   "metadata": {},
   "outputs": [],
   "source": [
    "pool=await aioredis.create_redis_pool(\"redis://localhost:55000\")"
   ]
  },
  {
   "cell_type": "code",
   "execution_count": 61,
   "metadata": {},
   "outputs": [],
   "source": [
    "async def rm_all():\n",
    "    for k in await pool.keys(\"*\"):\n",
    "        await pool.delete(k)"
   ]
  },
  {
   "cell_type": "code",
   "execution_count": 59,
   "metadata": {},
   "outputs": [],
   "source": [
    "client = graphitesend.GraphiteClient(\n",
    "    prefix=\"anomaly_detection\",\n",
    "    graphite_server=\"localhost\",\n",
    "    system_name=\"\",\n",
    "    graphite_port=55010,\n",
    "    autoreconnect=True,\n",
    ")"
   ]
  },
  {
   "cell_type": "code",
   "execution_count": 102,
   "metadata": {},
   "outputs": [],
   "source": [
    "import orjson\n",
    "data=[orjson.loads(x)[\"job\"] for x in await pool.zrevrangebyscore(\"application_1619449271907_0381\")]"
   ]
  },
  {
   "cell_type": "code",
   "execution_count": 116,
   "metadata": {},
   "outputs": [
    {
     "data": {
      "text/plain": [
       "[b'application_1621434214720_2415',\n",
       " b'job_group:application_1621434214720_2415:job_group_0',\n",
       " b'applications',\n",
       " b'sequential_jobs:application_1621434214720_2415',\n",
       " b'job_group:application_1621434214720_2415:job_group_1']"
      ]
     },
     "execution_count": 116,
     "metadata": {},
     "output_type": "execute_result"
    }
   ],
   "source": [
    "await pool.keys(\"*\")"
   ]
  },
  {
   "cell_type": "code",
   "execution_count": 119,
   "metadata": {},
   "outputs": [],
   "source": [
    "for x in await pool.keys(\"tspj:*\"):\n",
    "    await pool.delete(x)\n",
    "for x in await pool.keys(\"tspj:application_1621434214720_2415:anomaly_detection\"):\n",
    "    await pool.delete(x)\n",
    "for x in await pool.keys(\"tspj:application_1621434214720_2415:feature_bypass\"):\n",
    "    await pool.delete(x)\n",
    "for x in await pool.keys(\"ml:*\"):\n",
    "    await pool.delete(x)"
   ]
  },
  {
   "cell_type": "code",
   "execution_count": 100,
   "metadata": {},
   "outputs": [
    {
     "data": {
      "text/plain": [
       "407"
      ]
     },
     "execution_count": 100,
     "metadata": {},
     "output_type": "execute_result"
    }
   ],
   "source": [
    "max(int(i) for i in await pool.smembers('tspj:application_1621434214720_2415:feature_bypass'))"
   ]
  },
  {
   "cell_type": "code",
   "execution_count": 102,
   "metadata": {},
   "outputs": [
    {
     "data": {
      "text/plain": [
       "407"
      ]
     },
     "execution_count": 102,
     "metadata": {},
     "output_type": "execute_result"
    }
   ],
   "source": [
    "max(int(i) for i in await pool.smembers('tspj:application_1621434214720_2415:anomaly_detection'))"
   ]
  },
  {
   "cell_type": "code",
   "execution_count": 78,
   "metadata": {},
   "outputs": [
    {
     "name": "stdout",
     "output_type": "stream",
     "text": [
      "/tmp/ml:application_1621434214720_2415:autoencoder:job_group_1.h5\r\n"
     ]
    }
   ],
   "source": [
    "!ls /tmp/ml:application_1621434214720_2415:autoencoder:job_group_1.h5"
   ]
  },
  {
   "cell_type": "code",
   "execution_count": 62,
   "metadata": {},
   "outputs": [],
   "source": [
    "await rm_all()"
   ]
  },
  {
   "cell_type": "code",
   "execution_count": 155,
   "metadata": {},
   "outputs": [],
   "source": [
    "with open(\"../sample_data/job_list_sample\", \"wb\") as f:\n",
    "    f.write(data[0])"
   ]
  },
  {
   "cell_type": "code",
   "execution_count": 158,
   "metadata": {},
   "outputs": [
    {
     "data": {
      "text/plain": [
       "[]"
      ]
     },
     "execution_count": 158,
     "metadata": {},
     "output_type": "execute_result"
    }
   ],
   "source": [
    "await pool.smembers(f\"processed_jobs:1\")"
   ]
  },
  {
   "cell_type": "code",
   "execution_count": 35,
   "metadata": {},
   "outputs": [
    {
     "data": {
      "text/plain": [
       "2"
      ]
     },
     "execution_count": 35,
     "metadata": {},
     "output_type": "execute_result"
    }
   ],
   "source": [
    "await pool.zcount(\"sequential_jobs:application_1619800099011_0001\")"
   ]
  },
  {
   "cell_type": "code",
   "execution_count": 186,
   "metadata": {},
   "outputs": [],
   "source": [
    "import itertools"
   ]
  },
  {
   "cell_type": "code",
   "execution_count": 188,
   "metadata": {},
   "outputs": [
    {
     "data": {
      "text/plain": [
       "[1, 2, 3, 4]"
      ]
     },
     "execution_count": 188,
     "metadata": {},
     "output_type": "execute_result"
    }
   ],
   "source": [
    "itertools.chain([1,2], [3,4])"
   ]
  },
  {
   "cell_type": "code",
   "execution_count": 83,
   "metadata": {},
   "outputs": [],
   "source": [
    "import pandas as pd\n",
    "import numpy as np\n",
    "from sklearn.ensemble import IsolationForest\n",
    "from matplotlib import pyplot as plt"
   ]
  },
  {
   "cell_type": "code",
   "execution_count": 95,
   "metadata": {},
   "outputs": [],
   "source": [
    "x=(np.array([np.random.normal() for i in range(100)]+[2200]) + 1000).reshape(-1,1)"
   ]
  },
  {
   "cell_type": "code",
   "execution_count": 111,
   "metadata": {},
   "outputs": [
    {
     "data": {
      "text/plain": [
       "array([ 1,  1,  1,  1,  1,  1, -1,  1,  1, -1,  1,  1,  1,  1, -1,  1, -1,\n",
       "        1, -1,  1,  1,  1,  1,  1,  1, -1,  1,  1,  1,  1,  1,  1,  1,  1,\n",
       "        1,  1,  1,  1,  1,  1,  1,  1,  1,  1,  1,  1,  1,  1,  1,  1,  1,\n",
       "        1,  1,  1,  1, -1,  1, -1,  1,  1,  1, -1,  1,  1,  1,  1,  1, -1,\n",
       "        1,  1,  1, -1,  1,  1, -1,  1, -1,  1, -1, -1,  1,  1, -1,  1,  1,\n",
       "        1,  1,  1, -1,  1,  1,  1,  1,  1,  1,  1,  1,  1,  1,  1, -1])"
      ]
     },
     "execution_count": 111,
     "metadata": {},
     "output_type": "execute_result"
    }
   ],
   "source": [
    "isf = IsolationForest(warm_start=True)\n",
    "isf.fit(x)\n",
    "isf.predict(x)"
   ]
  },
  {
   "cell_type": "code",
   "execution_count": 121,
   "metadata": {},
   "outputs": [
    {
     "ename": "TypeError",
     "evalue": "fit() got an unexpected keyword argument 'n_estimators'",
     "output_type": "error",
     "traceback": [
      "\u001b[0;31m---------------------------------------------------------------------------\u001b[0m",
      "\u001b[0;31mTypeError\u001b[0m                                 Traceback (most recent call last)",
      "\u001b[0;32m<ipython-input-121-f3cb55ed622f>\u001b[0m in \u001b[0;36m<module>\u001b[0;34m\u001b[0m\n\u001b[0;32m----> 1\u001b[0;31m \u001b[0misf\u001b[0m\u001b[0;34m.\u001b[0m\u001b[0mfit\u001b[0m\u001b[0;34m(\u001b[0m\u001b[0mnp\u001b[0m\u001b[0;34m.\u001b[0m\u001b[0marray\u001b[0m\u001b[0;34m(\u001b[0m\u001b[0;34m[\u001b[0m\u001b[0;36m1\u001b[0m\u001b[0;34m,\u001b[0m\u001b[0;36m1\u001b[0m\u001b[0;34m]\u001b[0m\u001b[0;34m)\u001b[0m\u001b[0;34m.\u001b[0m\u001b[0mreshape\u001b[0m\u001b[0;34m(\u001b[0m\u001b[0;34m-\u001b[0m\u001b[0;36m1\u001b[0m\u001b[0;34m,\u001b[0m\u001b[0;36m1\u001b[0m\u001b[0;34m)\u001b[0m\u001b[0;34m,\u001b[0m \u001b[0mn_estimators\u001b[0m\u001b[0;34m=\u001b[0m\u001b[0;36m3\u001b[0m\u001b[0;34m)\u001b[0m\u001b[0;34m\u001b[0m\u001b[0;34m\u001b[0m\u001b[0m\n\u001b[0m",
      "\u001b[0;31mTypeError\u001b[0m: fit() got an unexpected keyword argument 'n_estimators'"
     ]
    }
   ],
   "source": [
    "isf.fit(np.array([1,1]).reshape(-1,1))"
   ]
  },
  {
   "cell_type": "code",
   "execution_count": 100,
   "metadata": {},
   "outputs": [],
   "source": [
    "pred=isf.score_samples(x)"
   ]
  },
  {
   "cell_type": "code",
   "execution_count": 119,
   "metadata": {},
   "outputs": [
    {
     "data": {
      "text/plain": [
       "<matplotlib.collections.PathCollection at 0x7fb5bbbff410>"
      ]
     },
     "execution_count": 119,
     "metadata": {},
     "output_type": "execute_result"
    },
    {
     "data": {
      "image/png": "[encoded data removed]",
      "text/plain": [
       "<Figure size 432x288 with 1 Axes>"
      ]
     },
     "metadata": {
      "needs_background": "light"
     },
     "output_type": "display_data"
    }
   ],
   "source": [
    "plt.plot(x)\n",
    "data = [(idx, y) for idx, y in enumerate(x) if pred[idx] < -.58]\n",
    "plt.scatter([x[0] for x in data], [x[1] for x in data], color=\"red\")"
   ]
  },
  {
   "cell_type": "code",
   "execution_count": 124,
   "metadata": {},
   "outputs": [
    {
     "name": "stdout",
     "output_type": "stream",
     "text": [
      "Collecting tensorflow\n",
      "  Downloading tensorflow-2.4.1-cp37-cp37m-macosx_10_11_x86_64.whl (173.9 MB)\n",
      "\u001b[K     |████████████████████████████████| 173.9 MB 198 kB/s eta 0:00:01\n",
      "\u001b[?25hRequirement already satisfied: six~=1.15.0 in /Users/p.ashikhmin/git/spark-luxmeter/venv/lib/python3.7/site-packages (from tensorflow) (1.15.0)\n",
      "Requirement already satisfied: typing-extensions~=3.7.4 in /Users/p.ashikhmin/git/spark-luxmeter/venv/lib/python3.7/site-packages (from tensorflow) (3.7.4.3)\n",
      "Collecting absl-py~=0.10\n",
      "  Downloading absl_py-0.12.0-py3-none-any.whl (129 kB)\n",
      "\u001b[K     |████████████████████████████████| 129 kB 243 kB/s eta 0:00:01\n",
      "\u001b[?25hRequirement already satisfied: six~=1.15.0 in /Users/p.ashikhmin/git/spark-luxmeter/venv/lib/python3.7/site-packages (from tensorflow) (1.15.0)\n",
      "Collecting astunparse~=1.6.3\n",
      "  Using cached astunparse-1.6.3-py2.py3-none-any.whl (12 kB)\n",
      "Requirement already satisfied: six~=1.15.0 in /Users/p.ashikhmin/git/spark-luxmeter/venv/lib/python3.7/site-packages (from tensorflow) (1.15.0)\n",
      "Collecting flatbuffers~=1.12.0\n",
      "  Downloading flatbuffers-1.12-py2.py3-none-any.whl (15 kB)\n",
      "Collecting gast==0.3.3\n",
      "  Using cached gast-0.3.3-py2.py3-none-any.whl (9.7 kB)\n",
      "Collecting google-pasta~=0.2\n",
      "  Using cached google_pasta-0.2.0-py3-none-any.whl (57 kB)\n",
      "Requirement already satisfied: six~=1.15.0 in /Users/p.ashikhmin/git/spark-luxmeter/venv/lib/python3.7/site-packages (from tensorflow) (1.15.0)\n",
      "Collecting grpcio~=1.32.0\n",
      "  Downloading grpcio-1.32.0-cp37-cp37m-macosx_10_9_x86_64.whl (3.3 MB)\n",
      "\u001b[K     |████████████████████████████████| 3.3 MB 192 kB/s eta 0:00:01\n",
      "\u001b[?25hRequirement already satisfied: six~=1.15.0 in /Users/p.ashikhmin/git/spark-luxmeter/venv/lib/python3.7/site-packages (from tensorflow) (1.15.0)\n",
      "Collecting h5py~=2.10.0\n",
      "  Using cached h5py-2.10.0-cp37-cp37m-macosx_10_6_intel.whl (3.0 MB)\n",
      "Requirement already satisfied: six~=1.15.0 in /Users/p.ashikhmin/git/spark-luxmeter/venv/lib/python3.7/site-packages (from tensorflow) (1.15.0)\n",
      "Collecting keras-preprocessing~=1.1.2\n",
      "  Using cached Keras_Preprocessing-1.1.2-py2.py3-none-any.whl (42 kB)\n",
      "Requirement already satisfied: six~=1.15.0 in /Users/p.ashikhmin/git/spark-luxmeter/venv/lib/python3.7/site-packages (from tensorflow) (1.15.0)\n",
      "Collecting numpy~=1.19.2\n",
      "  Downloading numpy-1.19.5-cp37-cp37m-macosx_10_9_x86_64.whl (15.6 MB)\n",
      "\u001b[K     |████████████████████████████████| 15.6 MB 349 kB/s eta 0:00:01\n",
      "\u001b[?25hCollecting opt-einsum~=3.3.0\n",
      "  Downloading opt_einsum-3.3.0-py3-none-any.whl (65 kB)\n",
      "\u001b[K     |████████████████████████████████| 65 kB 664 kB/s eta 0:00:01\n",
      "\u001b[?25hCollecting protobuf>=3.9.2\n",
      "  Downloading protobuf-3.15.8-cp37-cp37m-macosx_10_9_x86_64.whl (1.0 MB)\n",
      "\u001b[K     |████████████████████████████████| 1.0 MB 412 kB/s eta 0:00:01\n",
      "\u001b[?25hRequirement already satisfied: six~=1.15.0 in /Users/p.ashikhmin/git/spark-luxmeter/venv/lib/python3.7/site-packages (from tensorflow) (1.15.0)\n",
      "Collecting tensorboard~=2.4\n",
      "  Downloading tensorboard-2.5.0-py3-none-any.whl (6.0 MB)\n",
      "\u001b[K     |████████████████████████████████| 6.0 MB 252 kB/s eta 0:00:01\n",
      "\u001b[?25hRequirement already satisfied: requests<3,>=2.21.0 in /Users/p.ashikhmin/git/spark-luxmeter/venv/lib/python3.7/site-packages (from tensorboard~=2.4->tensorflow) (2.25.0)\n",
      "Requirement already satisfied: werkzeug>=0.11.15 in /Users/p.ashikhmin/git/spark-luxmeter/venv/lib/python3.7/site-packages (from tensorboard~=2.4->tensorflow) (1.0.1)\n",
      "Collecting google-auth<2,>=1.6.3\n",
      "  Downloading google_auth-1.30.0-py2.py3-none-any.whl (146 kB)\n",
      "\u001b[K     |████████████████████████████████| 146 kB 306 kB/s eta 0:00:01\n",
      "\u001b[?25hRequirement already satisfied: six~=1.15.0 in /Users/p.ashikhmin/git/spark-luxmeter/venv/lib/python3.7/site-packages (from tensorflow) (1.15.0)\n",
      "Collecting cachetools<5.0,>=2.0.0\n",
      "  Downloading cachetools-4.2.2-py3-none-any.whl (11 kB)\n",
      "Collecting google-auth-oauthlib<0.5,>=0.4.1\n",
      "  Downloading google_auth_oauthlib-0.4.4-py2.py3-none-any.whl (18 kB)\n",
      "Collecting markdown>=2.6.8\n",
      "  Downloading Markdown-3.3.4-py3-none-any.whl (97 kB)\n",
      "\u001b[K     |████████████████████████████████| 97 kB 350 kB/s eta 0:00:01\n",
      "\u001b[?25hRequirement already satisfied: importlib-metadata in /Users/p.ashikhmin/git/spark-luxmeter/venv/lib/python3.7/site-packages (from markdown>=2.6.8->tensorboard~=2.4->tensorflow) (3.1.1)\n",
      "Requirement already satisfied: zipp>=0.5 in /Users/p.ashikhmin/git/spark-luxmeter/venv/lib/python3.7/site-packages (from importlib-metadata->markdown>=2.6.8->tensorboard~=2.4->tensorflow) (3.4.0)\n",
      "Collecting pyasn1-modules>=0.2.1\n",
      "  Using cached pyasn1_modules-0.2.8-py2.py3-none-any.whl (155 kB)\n",
      "Collecting pyasn1<0.5.0,>=0.4.6\n",
      "  Using cached pyasn1-0.4.8-py2.py3-none-any.whl (77 kB)\n",
      "Requirement already satisfied: certifi>=2017.4.17 in /Users/p.ashikhmin/git/spark-luxmeter/venv/lib/python3.7/site-packages (from requests<3,>=2.21.0->tensorboard~=2.4->tensorflow) (2020.11.8)\n",
      "Requirement already satisfied: idna<3,>=2.5 in /Users/p.ashikhmin/git/spark-luxmeter/venv/lib/python3.7/site-packages (from requests<3,>=2.21.0->tensorboard~=2.4->tensorflow) (2.10)\n",
      "Requirement already satisfied: chardet<4,>=3.0.2 in /Users/p.ashikhmin/git/spark-luxmeter/venv/lib/python3.7/site-packages (from requests<3,>=2.21.0->tensorboard~=2.4->tensorflow) (3.0.4)\n",
      "Requirement already satisfied: urllib3<1.27,>=1.21.1 in /Users/p.ashikhmin/git/spark-luxmeter/venv/lib/python3.7/site-packages (from requests<3,>=2.21.0->tensorboard~=2.4->tensorflow) (1.26.2)\n",
      "Collecting requests-oauthlib>=0.7.0\n",
      "  Using cached requests_oauthlib-1.3.0-py2.py3-none-any.whl (23 kB)\n",
      "Requirement already satisfied: requests<3,>=2.21.0 in /Users/p.ashikhmin/git/spark-luxmeter/venv/lib/python3.7/site-packages (from tensorboard~=2.4->tensorflow) (2.25.0)\n",
      "Collecting oauthlib>=3.0.0\n",
      "  Using cached oauthlib-3.1.0-py2.py3-none-any.whl (147 kB)\n",
      "Collecting rsa<5,>=3.1.4\n",
      "  Downloading rsa-4.7.2-py3-none-any.whl (34 kB)\n",
      "Collecting setuptools>=41.0.0\n",
      "  Downloading setuptools-56.1.0-py3-none-any.whl (785 kB)\n",
      "\u001b[K     |████████████████████████████████| 785 kB 343 kB/s eta 0:00:01\n",
      "\u001b[?25hCollecting tensorboard-data-server<0.7.0,>=0.6.0\n",
      "  Downloading tensorboard_data_server-0.6.1-py3-none-macosx_10_9_x86_64.whl (3.5 MB)\n",
      "\u001b[K     |████████████████████████████████| 3.5 MB 751 kB/s eta 0:00:01\n",
      "\u001b[?25hCollecting tensorboard-plugin-wit>=1.6.0\n",
      "  Downloading tensorboard_plugin_wit-1.8.0-py3-none-any.whl (781 kB)\n",
      "\u001b[K     |████████████████████████████████| 781 kB 734 kB/s eta 0:00:01\n",
      "\u001b[?25hCollecting tensorflow-estimator<2.5.0,>=2.4.0\n",
      "  Downloading tensorflow_estimator-2.4.0-py2.py3-none-any.whl (462 kB)\n",
      "\u001b[K     |████████████████████████████████| 462 kB 826 kB/s eta 0:00:01\n",
      "\u001b[?25hCollecting termcolor~=1.1.0\n",
      "  Using cached termcolor-1.1.0-cp37-none-any.whl\n",
      "Collecting wheel~=0.35\n",
      "  Downloading wheel-0.36.2-py2.py3-none-any.whl (35 kB)\n",
      "Collecting wrapt~=1.12.1\n",
      "  Using cached wrapt-1.12.1.tar.gz (27 kB)\n",
      "Using legacy 'setup.py install' for wrapt, since package 'wheel' is not installed.\n",
      "Installing collected packages: pyasn1, setuptools, rsa, pyasn1-modules, oauthlib, cachetools, requests-oauthlib, google-auth, wheel, tensorboard-plugin-wit, tensorboard-data-server, protobuf, numpy, markdown, grpcio, google-auth-oauthlib, absl-py, wrapt, termcolor, tensorflow-estimator, tensorboard, opt-einsum, keras-preprocessing, h5py, google-pasta, gast, flatbuffers, astunparse, tensorflow\n",
      "  Attempting uninstall: setuptools\n",
      "    Found existing installation: setuptools 40.8.0\n",
      "    Uninstalling setuptools-40.8.0:\n",
      "      Successfully uninstalled setuptools-40.8.0\n",
      "  Attempting uninstall: numpy\n",
      "    Found existing installation: numpy 1.20.0\n",
      "    Uninstalling numpy-1.20.0:\n",
      "      Successfully uninstalled numpy-1.20.0\n",
      "    Running setup.py install for wrapt ... \u001b[?25ldone\n",
      "\u001b[?25h  Attempting uninstall: h5py\n",
      "    Found existing installation: h5py 3.2.1\n",
      "    Uninstalling h5py-3.2.1:\n",
      "      Successfully uninstalled h5py-3.2.1\n",
      "Successfully installed absl-py-0.12.0 astunparse-1.6.3 cachetools-4.2.2 flatbuffers-1.12 gast-0.3.3 google-auth-1.30.0 google-auth-oauthlib-0.4.4 google-pasta-0.2.0 grpcio-1.32.0 h5py-2.10.0 keras-preprocessing-1.1.2 markdown-3.3.4 numpy-1.19.5 oauthlib-3.1.0 opt-einsum-3.3.0 protobuf-3.15.8 pyasn1-0.4.8 pyasn1-modules-0.2.8 requests-oauthlib-1.3.0 rsa-4.7.2 setuptools-56.1.0 tensorboard-2.5.0 tensorboard-data-server-0.6.1 tensorboard-plugin-wit-1.8.0 tensorflow-2.4.1 tensorflow-estimator-2.4.0 termcolor-1.1.0 wheel-0.36.2 wrapt-1.12.1\n"
     ]
    },
    {
     "name": "stdout",
     "output_type": "stream",
     "text": [
      "\u001b[33mWARNING: You are using pip version 20.3.1; however, version 21.1.1 is available.\r\n",
      "You should consider upgrading via the '/Users/p.ashikhmin/git/spark-luxmeter/venv/bin/python3.7 -m pip install --upgrade pip' command.\u001b[0m\r\n"
     ]
    }
   ],
   "source": [
    "!pip install tensorflow"
   ]
  },
  {
   "cell_type": "code",
   "execution_count": 141,
   "metadata": {},
   "outputs": [],
   "source": [
    "import keras\n",
    "from keras import layers\n",
    "import itertools"
   ]
  },
  {
   "cell_type": "code",
   "execution_count": 214,
   "metadata": {},
   "outputs": [],
   "source": [
    "data_raw=open(\"../sample_data/grafana_metrics\", \"r\").read()\n",
    "data_json=orjson.loads(data_raw)"
   ]
  },
  {
   "cell_type": "code",
   "execution_count": 260,
   "metadata": {},
   "outputs": [],
   "source": [
    "whole_data = np.array([x[0] for x in data_json[0][\"datapoints\"]])\n",
    "timestamps = np.array([x[1] for x in data_json[0][\"datapoints\"]])\n",
    "\n",
    "result = []\n",
    "for i in range(len(whole_data)):\n",
    "    if whole_data[i] == None:\n",
    "        n_idx, next_value = next(((idx, x) for idx, x in enumerate(whole_data[i+1:], i+1) if x is not None), (None, None))\n",
    "        p_idx_, prev_value = next(((idx, x) for idx, x in enumerate(reversed(whole_data[:i]), 1) if x is not None), (None, None))\n",
    "        if prev_value is not None:\n",
    "            p_idx = i - p_idx_\n",
    "        if next_value is None or prev_value is None:\n",
    "            whole_data[i] = next_value or prev_value\n",
    "        else:\n",
    "            dtn = timestamps[n_idx] - timestamps[i]\n",
    "            dtp = timestamps[i] - timestamps[p_idx]\n",
    "            dts = dtn + dtp\n",
    "            dtn /= dts\n",
    "            dtp /= dts\n",
    "            assert 0.99 < dtn + dtp <= 1, dtn + dtp\n",
    "            whole_data[i] = next_value * dtn + prev_value * dtp\n",
    "\n",
    "whole_data = np.array([x for x in whole_data if x is not None])\n",
    "            \n",
    "training_mean = whole_data.mean()\n",
    "training_std = whole_data.std()\n",
    "df_training_value = (whole_data - training_mean) / training_std\n",
    "\n",
    "sequences = []\n",
    "iterator=iter(df_training_value)\n",
    "\n",
    "chunk=200\n",
    "next_step = list(itertools.islice(iterator, chunk))\n",
    "while len(next_step) == chunk:\n",
    "    sequences.append(next_step)\n",
    "    next_step = list(itertools.islice(iterator, chunk))\n",
    "x_train = np.stack(sequences).reshape(-1,chunk,1)"
   ]
  },
  {
   "cell_type": "code",
   "execution_count": 261,
   "metadata": {},
   "outputs": [
    {
     "name": "stdout",
     "output_type": "stream",
     "text": [
      "Model: \"sequential_16\"\n",
      "_________________________________________________________________\n",
      "Layer (type)                 Output Shape              Param #   \n",
      "=================================================================\n",
      "conv1d_32 (Conv1D)           (None, 200, 32)           256       \n",
      "_________________________________________________________________\n",
      "dropout_32 (Dropout)         (None, 200, 32)           0         \n",
      "_________________________________________________________________\n",
      "conv1d_33 (Conv1D)           (None, 200, 16)           3600      \n",
      "_________________________________________________________________\n",
      "conv1d_transpose_48 (Conv1DT (None, 200, 16)           1808      \n",
      "_________________________________________________________________\n",
      "dropout_33 (Dropout)         (None, 200, 16)           0         \n",
      "_________________________________________________________________\n",
      "conv1d_transpose_49 (Conv1DT (None, 200, 32)           3616      \n",
      "_________________________________________________________________\n",
      "conv1d_transpose_50 (Conv1DT (None, 200, 1)            225       \n",
      "=================================================================\n",
      "Total params: 9,505\n",
      "Trainable params: 9,505\n",
      "Non-trainable params: 0\n",
      "_________________________________________________________________\n"
     ]
    }
   ],
   "source": [
    "model = keras.Sequential(\n",
    "    [\n",
    "        layers.Input(shape=(x_train.shape[1], x_train.shape[2])),\n",
    "        layers.Conv1D(\n",
    "            filters=32, kernel_size=7, padding=\"same\", strides=1, activation=\"relu\"\n",
    "        ),\n",
    "        layers.Dropout(rate=0.2),\n",
    "        layers.Conv1D(\n",
    "            filters=16, kernel_size=7, padding=\"same\", strides=1, activation=\"relu\"\n",
    "        ),\n",
    "        layers.Conv1DTranspose(\n",
    "            filters=16, kernel_size=7, padding=\"same\", strides=1, activation=\"relu\"\n",
    "        ),\n",
    "        layers.Dropout(rate=0.2),\n",
    "        layers.Conv1DTranspose(\n",
    "            filters=32, kernel_size=7, padding=\"same\", strides=1, activation=\"relu\"\n",
    "        ),\n",
    "        layers.Conv1DTranspose(filters=1, kernel_size=7, padding=\"same\"),\n",
    "    ]\n",
    ")\n",
    "model.compile(optimizer=keras.optimizers.Adam(learning_rate=0.002), loss=\"mse\")\n",
    "model.summary()"
   ]
  },
  {
   "cell_type": "code",
   "execution_count": 262,
   "metadata": {},
   "outputs": [
    {
     "name": "stdout",
     "output_type": "stream",
     "text": [
      "Epoch 1/128\n",
      "2/2 [==============================] - 1s 253ms/step - loss: 0.8661 - val_loss: 0.4607\n",
      "Epoch 2/128\n",
      "2/2 [==============================] - 0s 49ms/step - loss: 0.9215 - val_loss: 0.2840\n",
      "Epoch 3/128\n",
      "2/2 [==============================] - 0s 44ms/step - loss: 0.3059 - val_loss: 0.0560\n",
      "Epoch 4/128\n",
      "2/2 [==============================] - 0s 46ms/step - loss: 0.0662 - val_loss: 0.0972\n",
      "Epoch 5/128\n",
      "2/2 [==============================] - 0s 49ms/step - loss: 0.1802 - val_loss: 0.0524\n",
      "Epoch 6/128\n",
      "2/2 [==============================] - 0s 61ms/step - loss: 0.0971 - val_loss: 0.0086\n",
      "Epoch 7/128\n",
      "2/2 [==============================] - 0s 77ms/step - loss: 0.0420 - val_loss: 0.0442\n",
      "Epoch 8/128\n",
      "2/2 [==============================] - 0s 72ms/step - loss: 0.0825 - val_loss: 0.0540\n",
      "Epoch 9/128\n",
      "2/2 [==============================] - 0s 78ms/step - loss: 0.0983 - val_loss: 0.0379\n",
      "Epoch 10/128\n",
      "2/2 [==============================] - 0s 60ms/step - loss: 0.0474 - val_loss: 0.0124\n",
      "Epoch 11/128\n",
      "2/2 [==============================] - 0s 59ms/step - loss: 0.0362 - val_loss: 0.0120\n",
      "Epoch 12/128\n",
      "2/2 [==============================] - 0s 61ms/step - loss: 0.0472 - val_loss: 0.0211\n",
      "Epoch 13/128\n",
      "2/2 [==============================] - 0s 75ms/step - loss: 0.0463 - val_loss: 0.0119\n",
      "Epoch 14/128\n",
      "2/2 [==============================] - 0s 95ms/step - loss: 0.0500 - val_loss: 0.0078\n",
      "Epoch 15/128\n",
      "2/2 [==============================] - 0s 93ms/step - loss: 0.0353 - val_loss: 0.0130\n",
      "Epoch 16/128\n",
      "2/2 [==============================] - 0s 65ms/step - loss: 0.0401 - val_loss: 0.0152\n",
      "Epoch 17/128\n",
      "2/2 [==============================] - 0s 63ms/step - loss: 0.0410 - val_loss: 0.0105\n",
      "Epoch 18/128\n",
      "2/2 [==============================] - 0s 48ms/step - loss: 0.0304 - val_loss: 0.0075\n",
      "Epoch 19/128\n",
      "2/2 [==============================] - 0s 55ms/step - loss: 0.0300 - val_loss: 0.0094\n",
      "Epoch 20/128\n",
      "2/2 [==============================] - 0s 57ms/step - loss: 0.0341 - val_loss: 0.0086\n",
      "Epoch 21/128\n",
      "2/2 [==============================] - 0s 67ms/step - loss: 0.0268 - val_loss: 0.0072\n",
      "Epoch 22/128\n",
      "2/2 [==============================] - 0s 58ms/step - loss: 0.0273 - val_loss: 0.0104\n",
      "Epoch 23/128\n",
      "2/2 [==============================] - 0s 56ms/step - loss: 0.0402 - val_loss: 0.0103\n",
      "Epoch 24/128\n",
      "2/2 [==============================] - 0s 409ms/step - loss: 0.0265 - val_loss: 0.0071\n",
      "Epoch 25/128\n",
      "2/2 [==============================] - 0s 62ms/step - loss: 0.0326 - val_loss: 0.0062\n",
      "Epoch 26/128\n",
      "2/2 [==============================] - 0s 72ms/step - loss: 0.0223 - val_loss: 0.0064\n",
      "Epoch 27/128\n",
      "2/2 [==============================] - 0s 63ms/step - loss: 0.0275 - val_loss: 0.0059\n",
      "Epoch 28/128\n",
      "2/2 [==============================] - 0s 63ms/step - loss: 0.0286 - val_loss: 0.0070\n",
      "Epoch 29/128\n",
      "2/2 [==============================] - 0s 68ms/step - loss: 0.0267 - val_loss: 0.0070\n",
      "Epoch 30/128\n",
      "2/2 [==============================] - 0s 60ms/step - loss: 0.0202 - val_loss: 0.0056\n",
      "Epoch 31/128\n",
      "2/2 [==============================] - 0s 75ms/step - loss: 0.0243 - val_loss: 0.0060\n",
      "Epoch 32/128\n",
      "2/2 [==============================] - 0s 64ms/step - loss: 0.0282 - val_loss: 0.0053\n",
      "Epoch 33/128\n",
      "2/2 [==============================] - 0s 65ms/step - loss: 0.0201 - val_loss: 0.0055\n",
      "Epoch 34/128\n",
      "2/2 [==============================] - 0s 67ms/step - loss: 0.0283 - val_loss: 0.0063\n",
      "Epoch 35/128\n",
      "2/2 [==============================] - 0s 54ms/step - loss: 0.0292 - val_loss: 0.0053\n",
      "Epoch 36/128\n",
      "2/2 [==============================] - 0s 53ms/step - loss: 0.0224 - val_loss: 0.0044\n",
      "Epoch 37/128\n",
      "2/2 [==============================] - 0s 54ms/step - loss: 0.0228 - val_loss: 0.0046\n",
      "Epoch 38/128\n",
      "2/2 [==============================] - 0s 57ms/step - loss: 0.0239 - val_loss: 0.0043\n",
      "Epoch 39/128\n",
      "2/2 [==============================] - 0s 51ms/step - loss: 0.0173 - val_loss: 0.0052\n",
      "Epoch 40/128\n",
      "2/2 [==============================] - 0s 51ms/step - loss: 0.0184 - val_loss: 0.0054\n",
      "Epoch 41/128\n",
      "2/2 [==============================] - 0s 55ms/step - loss: 0.0194 - val_loss: 0.0044\n",
      "Epoch 42/128\n",
      "2/2 [==============================] - 0s 61ms/step - loss: 0.0199 - val_loss: 0.0037\n",
      "Epoch 43/128\n",
      "2/2 [==============================] - 0s 55ms/step - loss: 0.0160 - val_loss: 0.0035\n",
      "Epoch 44/128\n",
      "2/2 [==============================] - 0s 78ms/step - loss: 0.0163 - val_loss: 0.0041\n",
      "Epoch 45/128\n",
      "2/2 [==============================] - 0s 63ms/step - loss: 0.0172 - val_loss: 0.0047\n",
      "Epoch 46/128\n",
      "2/2 [==============================] - 0s 69ms/step - loss: 0.0186 - val_loss: 0.0039\n",
      "Epoch 47/128\n",
      "2/2 [==============================] - 0s 62ms/step - loss: 0.0153 - val_loss: 0.0030\n",
      "Epoch 48/128\n",
      "2/2 [==============================] - 0s 59ms/step - loss: 0.0175 - val_loss: 0.0030\n",
      "Epoch 49/128\n",
      "2/2 [==============================] - 0s 67ms/step - loss: 0.0154 - val_loss: 0.0059\n",
      "Epoch 50/128\n",
      "2/2 [==============================] - 0s 80ms/step - loss: 0.0128 - val_loss: 0.0056\n",
      "Epoch 51/128\n",
      "2/2 [==============================] - 0s 57ms/step - loss: 0.0140 - val_loss: 0.0030\n",
      "Epoch 52/128\n",
      "2/2 [==============================] - 0s 72ms/step - loss: 0.0149 - val_loss: 0.0028\n",
      "Epoch 53/128\n",
      "2/2 [==============================] - 0s 71ms/step - loss: 0.0121 - val_loss: 0.0038\n",
      "Epoch 54/128\n",
      "2/2 [==============================] - 0s 72ms/step - loss: 0.0126 - val_loss: 0.0046\n",
      "Epoch 55/128\n",
      "2/2 [==============================] - 0s 49ms/step - loss: 0.0206 - val_loss: 0.0028\n",
      "Epoch 56/128\n",
      "2/2 [==============================] - 0s 45ms/step - loss: 0.0144 - val_loss: 0.0025\n",
      "Epoch 57/128\n",
      "2/2 [==============================] - 0s 45ms/step - loss: 0.0118 - val_loss: 0.0025\n",
      "Epoch 58/128\n",
      "2/2 [==============================] - 0s 45ms/step - loss: 0.0128 - val_loss: 0.0024\n",
      "Epoch 59/128\n",
      "2/2 [==============================] - 0s 43ms/step - loss: 0.0168 - val_loss: 0.0024\n",
      "Epoch 60/128\n",
      "2/2 [==============================] - 0s 45ms/step - loss: 0.0150 - val_loss: 0.0023\n",
      "Epoch 61/128\n",
      "2/2 [==============================] - 0s 45ms/step - loss: 0.0156 - val_loss: 0.0026\n",
      "Epoch 62/128\n",
      "2/2 [==============================] - 0s 45ms/step - loss: 0.0119 - val_loss: 0.0050\n",
      "Epoch 63/128\n",
      "2/2 [==============================] - 0s 45ms/step - loss: 0.0133 - val_loss: 0.0029\n",
      "Epoch 64/128\n",
      "2/2 [==============================] - 0s 45ms/step - loss: 0.0109 - val_loss: 0.0022\n",
      "Epoch 65/128\n",
      "2/2 [==============================] - 0s 51ms/step - loss: 0.0138 - val_loss: 0.0026\n",
      "Epoch 66/128\n",
      "2/2 [==============================] - 0s 75ms/step - loss: 0.0145 - val_loss: 0.0022\n",
      "Epoch 67/128\n",
      "2/2 [==============================] - 0s 73ms/step - loss: 0.0135 - val_loss: 0.0023\n",
      "Epoch 68/128\n",
      "2/2 [==============================] - 0s 61ms/step - loss: 0.0123 - val_loss: 0.0024\n",
      "Epoch 69/128\n",
      "2/2 [==============================] - 0s 63ms/step - loss: 0.0079 - val_loss: 0.0017\n",
      "Epoch 70/128\n",
      "2/2 [==============================] - 0s 67ms/step - loss: 0.0086 - val_loss: 0.0016\n",
      "Epoch 71/128\n",
      "2/2 [==============================] - 0s 68ms/step - loss: 0.0099 - val_loss: 0.0015\n",
      "Epoch 72/128\n",
      "2/2 [==============================] - 0s 54ms/step - loss: 0.0102 - val_loss: 0.0015\n",
      "Epoch 73/128\n",
      "2/2 [==============================] - 0s 49ms/step - loss: 0.0104 - val_loss: 0.0025\n",
      "Epoch 74/128\n",
      "2/2 [==============================] - 0s 59ms/step - loss: 0.0104 - val_loss: 0.0046\n",
      "Epoch 75/128\n",
      "2/2 [==============================] - 0s 57ms/step - loss: 0.0107 - val_loss: 0.0018\n",
      "Epoch 76/128\n",
      "2/2 [==============================] - 0s 46ms/step - loss: 0.0162 - val_loss: 0.0015\n",
      "Epoch 77/128\n",
      "2/2 [==============================] - 0s 57ms/step - loss: 0.0084 - val_loss: 0.0044\n",
      "Epoch 78/128\n",
      "2/2 [==============================] - 0s 65ms/step - loss: 0.0114 - val_loss: 0.0032\n",
      "Epoch 79/128\n",
      "2/2 [==============================] - 0s 66ms/step - loss: 0.0098 - val_loss: 0.0030\n",
      "Epoch 80/128\n",
      "2/2 [==============================] - 0s 49ms/step - loss: 0.0135 - val_loss: 0.0015\n",
      "Epoch 81/128\n",
      "2/2 [==============================] - 0s 48ms/step - loss: 0.0081 - val_loss: 0.0083\n",
      "Epoch 82/128\n",
      "2/2 [==============================] - 0s 50ms/step - loss: 0.0126 - val_loss: 0.0061\n",
      "Epoch 83/128\n",
      "2/2 [==============================] - 0s 57ms/step - loss: 0.0068 - val_loss: 0.0022\n"
     ]
    },
    {
     "name": "stdout",
     "output_type": "stream",
     "text": [
      "Epoch 84/128\n",
      "2/2 [==============================] - 0s 76ms/step - loss: 0.0096 - val_loss: 0.0017\n",
      "Epoch 85/128\n",
      "2/2 [==============================] - 0s 85ms/step - loss: 0.0073 - val_loss: 0.0047\n",
      "Epoch 86/128\n",
      "2/2 [==============================] - 0s 83ms/step - loss: 0.0134 - val_loss: 0.0041\n",
      "Epoch 87/128\n",
      "2/2 [==============================] - 0s 73ms/step - loss: 0.0080 - val_loss: 0.0015\n",
      "Epoch 88/128\n",
      "2/2 [==============================] - 0s 54ms/step - loss: 0.0092 - val_loss: 0.0016\n",
      "Epoch 89/128\n",
      "2/2 [==============================] - 0s 60ms/step - loss: 0.0089 - val_loss: 0.0050\n",
      "Epoch 90/128\n",
      "2/2 [==============================] - 0s 47ms/step - loss: 0.0079 - val_loss: 0.0047\n",
      "Epoch 91/128\n",
      "2/2 [==============================] - 0s 50ms/step - loss: 0.0087 - val_loss: 0.0016\n",
      "Epoch 92/128\n",
      "2/2 [==============================] - 0s 48ms/step - loss: 0.0141 - val_loss: 0.0017\n",
      "Epoch 93/128\n",
      "2/2 [==============================] - 0s 47ms/step - loss: 0.0137 - val_loss: 0.0084\n",
      "Epoch 94/128\n",
      "2/2 [==============================] - 0s 44ms/step - loss: 0.0127 - val_loss: 0.0069\n",
      "Epoch 95/128\n",
      "2/2 [==============================] - 0s 48ms/step - loss: 0.0122 - val_loss: 0.0012\n",
      "Epoch 96/128\n",
      "2/2 [==============================] - 0s 47ms/step - loss: 0.0086 - val_loss: 0.0015\n",
      "Epoch 97/128\n",
      "2/2 [==============================] - 0s 48ms/step - loss: 0.0095 - val_loss: 0.0030\n",
      "Epoch 98/128\n",
      "2/2 [==============================] - 0s 47ms/step - loss: 0.0076 - val_loss: 0.0063\n",
      "Epoch 99/128\n",
      "2/2 [==============================] - 0s 45ms/step - loss: 0.0082 - val_loss: 0.0030\n",
      "Epoch 100/128\n",
      "2/2 [==============================] - 0s 43ms/step - loss: 0.0150 - val_loss: 0.0012\n",
      "Epoch 101/128\n",
      "2/2 [==============================] - 0s 45ms/step - loss: 0.0074 - val_loss: 0.0025\n",
      "Epoch 102/128\n",
      "2/2 [==============================] - 0s 45ms/step - loss: 0.0101 - val_loss: 0.0051\n",
      "Epoch 103/128\n",
      "2/2 [==============================] - 0s 44ms/step - loss: 0.0085 - val_loss: 0.0050\n",
      "Epoch 104/128\n",
      "2/2 [==============================] - 0s 45ms/step - loss: 0.0111 - val_loss: 0.0020\n",
      "Epoch 105/128\n",
      "2/2 [==============================] - 0s 45ms/step - loss: 0.0072 - val_loss: 9.6885e-04\n",
      "Epoch 106/128\n",
      "2/2 [==============================] - 0s 47ms/step - loss: 0.0085 - val_loss: 0.0016\n",
      "Epoch 107/128\n",
      "2/2 [==============================] - 0s 46ms/step - loss: 0.0099 - val_loss: 0.0028\n",
      "Epoch 108/128\n",
      "2/2 [==============================] - 0s 46ms/step - loss: 0.0149 - val_loss: 0.0016\n",
      "Epoch 109/128\n",
      "2/2 [==============================] - 0s 45ms/step - loss: 0.0139 - val_loss: 0.0027\n",
      "Epoch 110/128\n",
      "2/2 [==============================] - 0s 46ms/step - loss: 0.0152 - val_loss: 0.0031\n",
      "Epoch 111/128\n",
      "2/2 [==============================] - 0s 45ms/step - loss: 0.0055 - val_loss: 0.0030\n",
      "Epoch 112/128\n",
      "2/2 [==============================] - 0s 45ms/step - loss: 0.0064 - val_loss: 0.0014\n",
      "Epoch 113/128\n",
      "2/2 [==============================] - 0s 51ms/step - loss: 0.0095 - val_loss: 0.0022\n",
      "Epoch 114/128\n",
      "2/2 [==============================] - 0s 334ms/step - loss: 0.0107 - val_loss: 0.0032\n",
      "Epoch 115/128\n",
      "2/2 [==============================] - 0s 47ms/step - loss: 0.0094 - val_loss: 0.0013\n",
      "Epoch 116/128\n",
      "2/2 [==============================] - 0s 46ms/step - loss: 0.0108 - val_loss: 9.0544e-04\n",
      "Epoch 117/128\n",
      "2/2 [==============================] - 0s 45ms/step - loss: 0.0079 - val_loss: 0.0066\n",
      "Epoch 118/128\n",
      "2/2 [==============================] - 0s 46ms/step - loss: 0.0090 - val_loss: 0.0015\n",
      "Epoch 119/128\n",
      "2/2 [==============================] - 0s 45ms/step - loss: 0.0084 - val_loss: 0.0017\n",
      "Epoch 120/128\n",
      "2/2 [==============================] - 0s 46ms/step - loss: 0.0058 - val_loss: 0.0033\n",
      "Epoch 121/128\n",
      "2/2 [==============================] - 0s 45ms/step - loss: 0.0104 - val_loss: 0.0039\n",
      "Epoch 122/128\n",
      "2/2 [==============================] - 0s 47ms/step - loss: 0.0079 - val_loss: 0.0015\n",
      "Epoch 123/128\n",
      "2/2 [==============================] - 0s 45ms/step - loss: 0.0078 - val_loss: 0.0015\n",
      "Epoch 124/128\n",
      "2/2 [==============================] - 0s 48ms/step - loss: 0.0056 - val_loss: 0.0041\n",
      "Epoch 125/128\n",
      "2/2 [==============================] - 0s 48ms/step - loss: 0.0108 - val_loss: 0.0089\n",
      "Epoch 126/128\n",
      "2/2 [==============================] - 0s 49ms/step - loss: 0.0137 - val_loss: 0.0019\n",
      "Epoch 127/128\n",
      "2/2 [==============================] - 0s 46ms/step - loss: 0.0149 - val_loss: 6.7933e-04\n",
      "Epoch 128/128\n",
      "2/2 [==============================] - 0s 48ms/step - loss: 0.0095 - val_loss: 0.0020\n"
     ]
    }
   ],
   "source": [
    "history = model.fit(\n",
    "    x_train,\n",
    "    x_train,\n",
    "    epochs=128,\n",
    "    batch_size=3,\n",
    "    validation_split=0.1,\n",
    ")"
   ]
  },
  {
   "cell_type": "code",
   "execution_count": 263,
   "metadata": {},
   "outputs": [
    {
     "data": {
      "image/png": "[encoded data removed]",
      "text/plain": [
       "<Figure size 432x288 with 1 Axes>"
      ]
     },
     "metadata": {
      "needs_background": "light"
     },
     "output_type": "display_data"
    }
   ],
   "source": [
    "plt.plot(history.history[\"loss\"], label=\"Training Loss\")\n",
    "plt.plot(history.history[\"val_loss\"], label=\"Validation Loss\")\n",
    "plt.legend()\n",
    "plt.show()"
   ]
  },
  {
   "cell_type": "code",
   "execution_count": 264,
   "metadata": {},
   "outputs": [
    {
     "data": {
      "image/png": "[encoded data removed]",
      "text/plain": [
       "<Figure size 432x288 with 1 Axes>"
      ]
     },
     "metadata": {
      "needs_background": "light"
     },
     "output_type": "display_data"
    },
    {
     "name": "stdout",
     "output_type": "stream",
     "text": [
      "Reconstruction error threshold:  0.38742522545739616\n"
     ]
    }
   ],
   "source": [
    "# Get train MAE loss.\n",
    "x_train_pred = model.predict(x_train)\n",
    "train_mae_loss = np.mean(np.abs(x_train_pred - x_train), axis=1)\n",
    "\n",
    "plt.hist(train_mae_loss, bins=50)\n",
    "plt.xlabel(\"Train MAE loss\")\n",
    "plt.ylabel(\"No of samples\")\n",
    "plt.show()\n",
    "\n",
    "# Get reconstruction loss threshold.\n",
    "threshold = np.max(train_mae_loss)\n",
    "print(\"Reconstruction error threshold: \", threshold)"
   ]
  },
  {
   "cell_type": "code",
   "execution_count": 265,
   "metadata": {},
   "outputs": [
    {
     "data": {
      "image/png": "[encoded data removed]",
      "text/plain": [
       "<Figure size 432x288 with 1 Axes>"
      ]
     },
     "metadata": {
      "needs_background": "light"
     },
     "output_type": "display_data"
    }
   ],
   "source": [
    "# Checking how the first sequence is learnt\n",
    "plt.plot(x_train[0])\n",
    "plt.plot(x_train_pred[0])\n",
    "plt.show()"
   ]
  },
  {
   "cell_type": "code",
   "execution_count": 266,
   "metadata": {},
   "outputs": [
    {
     "data": {
      "text/plain": [
       "(7, 200, 1)"
      ]
     },
     "execution_count": 266,
     "metadata": {},
     "output_type": "execute_result"
    }
   ],
   "source": [
    "x_train.shape"
   ]
  },
  {
   "cell_type": "code",
   "execution_count": 268,
   "metadata": {},
   "outputs": [
    {
     "data": {
      "text/plain": [
       "array([[1, 2],\n",
       "       [3, 4]])"
      ]
     },
     "execution_count": 268,
     "metadata": {},
     "output_type": "execute_result"
    }
   ],
   "source": [
    "arr=np.array([[1,2],[3,4]])\n",
    "arr"
   ]
  },
  {
   "cell_type": "code",
   "execution_count": 269,
   "metadata": {},
   "outputs": [
    {
     "name": "stdout",
     "output_type": "stream",
     "text": [
      "[1 2]\n",
      "[3 4]\n"
     ]
    }
   ],
   "source": [
    "for x in arr:\n",
    "    print(x)"
   ]
  },
  {
   "cell_type": "code",
   "execution_count": 320,
   "metadata": {},
   "outputs": [
    {
     "data": {
      "text/plain": [
       "[b'tspj:application_1619800099011_0001',\n",
       " b'application_1619800099011_0001',\n",
       " b'sequential_jobs:application_1619800099011_0001',\n",
       " b'applications',\n",
       " b'last_job_score:application_1619800099011_0001']"
      ]
     },
     "execution_count": 320,
     "metadata": {},
     "output_type": "execute_result"
    }
   ],
   "source": [
    "await pool.keys(\"*\")"
   ]
  },
  {
   "cell_type": "code",
   "execution_count": 329,
   "metadata": {},
   "outputs": [
    {
     "data": {
      "text/plain": [
       "91"
      ]
     },
     "execution_count": 329,
     "metadata": {},
     "output_type": "execute_result"
    }
   ],
   "source": [
    "await pool.srem(\"tspj:application_1619800099011_0001\", *[str(i) for i in range(3932, 4023)])"
   ]
  },
  {
   "cell_type": "code",
   "execution_count": 317,
   "metadata": {},
   "outputs": [
    {
     "data": {
      "text/plain": [
       "'36.07M'"
      ]
     },
     "execution_count": 317,
     "metadata": {},
     "output_type": "execute_result"
    }
   ],
   "source": [
    "(await pool.info())[\"memory\"][\"used_memory_human\"]"
   ]
  },
  {
   "cell_type": "code",
   "execution_count": 27,
   "metadata": {},
   "outputs": [],
   "source": [
    "from scipy.stats import kstest\n",
    "from scipy.stats.mstats import chisquare"
   ]
  },
  {
   "cell_type": "code",
   "execution_count": 49,
   "metadata": {},
   "outputs": [
    {
     "data": {
      "text/plain": [
       "KstestResult(statistic=0.4666666666666666, pvalue=0.4151111111111112)"
      ]
     },
     "execution_count": 49,
     "metadata": {},
     "output_type": "execute_result"
    }
   ],
   "source": [
    "kstest([0.81, 0.1, 0.2], \"uniform\")"
   ]
  },
  {
   "cell_type": "code",
   "execution_count": null,
   "metadata": {},
   "outputs": [],
   "source": []
  }
 ],
 "metadata": {
  "kernelspec": {
   "display_name": "Python 3",
   "language": "python",
   "name": "python3"
  },
  "language_info": {
   "codemirror_mode": {
    "name": "ipython",
    "version": 3
   },
   "file_extension": ".py",
   "mimetype": "text/x-python",
   "name": "python",
   "nbconvert_exporter": "python",
   "pygments_lexer": "ipython3",
   "version": "3.7.4"
  }
 },
 "nbformat": 4,
 "nbformat_minor": 4
}
